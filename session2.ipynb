{
 "cells": [
  {
   "cell_type": "markdown",
   "metadata": {},
   "source": [
    "# Lists, Tuples, Loops  "
   ]
  },
  {
   "cell_type": "code",
   "execution_count": 2,
   "metadata": {},
   "outputs": [
    {
     "name": "stdout",
     "output_type": "stream",
     "text": [
      "Our Shinning Stars are : Babar Azam\n",
      "Our Shinning Stars are : M.Rizwan\n",
      "Our Shinning Stars are : Shaheen Afridi\n"
     ]
    }
   ],
   "source": [
    "players: list[str] = [\"Babar Azam\",\"M.Rizwan\",\"Shaheen Afridi\"]\n",
    "\n",
    "for pl in players:\n",
    "    print(f\"Our Shinning Stars are : {pl}\")"
   ]
  },
  {
   "cell_type": "code",
   "execution_count": 3,
   "metadata": {},
   "outputs": [
    {
     "name": "stdout",
     "output_type": "stream",
     "text": [
      "1\n",
      "2\n",
      "3\n",
      "4\n"
     ]
    }
   ],
   "source": [
    "for value in range(1, 5):\n",
    "    print(value)"
   ]
  },
  {
   "cell_type": "code",
   "execution_count": 8,
   "metadata": {},
   "outputs": [
    {
     "name": "stdout",
     "output_type": "stream",
     "text": [
      "[1, 2, 3, 4, 5]\n"
     ]
    }
   ],
   "source": [
    "numbers = list(range(1, 6))\n",
    "print(numbers)"
   ]
  },
  {
   "cell_type": "code",
   "execution_count": 18,
   "metadata": {},
   "outputs": [
    {
     "name": "stdout",
     "output_type": "stream",
     "text": [
      "rizwan 123\n",
      "Saleem 456\n",
      "asfand 000\n"
     ]
    }
   ],
   "source": [
    "data_base : list[tuple[str,str]] = [\n",
    "    ('rizwan','123'),\n",
    "    ('Saleem','456'),\n",
    "    ('asfand','000')\n",
    "    ]\n",
    "\n",
    "for data in data_base:\n",
    "    user,password = data\n",
    "    print(user,password)"
   ]
  },
  {
   "cell_type": "code",
   "execution_count": 25,
   "metadata": {},
   "outputs": [
    {
     "name": "stdout",
     "output_type": "stream",
     "text": [
      "2 X 1 = 2\n",
      "2 X 2 = 4\n",
      "2 X 3 = 6\n",
      "2 X 4 = 8\n",
      "2 X 5 = 10\n",
      "2 X 6 = 12\n",
      "2 X 7 = 14\n",
      "2 X 8 = 16\n",
      "2 X 9 = 18\n",
      "2 X 10 = 20\n"
     ]
    }
   ],
   "source": [
    "numbers:list[int] = [1,2,3,4,5,6,7,8,9,10]\n",
    "\n",
    "for num in numbers:\n",
    "    print(f\"2 X {num} = {2 * num}\")\n"
   ]
  },
  {
   "cell_type": "code",
   "execution_count": 17,
   "metadata": {},
   "outputs": [
    {
     "data": {
      "text/plain": [
       "816.1"
      ]
     },
     "execution_count": 17,
     "metadata": {},
     "output_type": "execute_result"
    }
   ],
   "source": [
    "nums: list[int] = [1,2,4,577,0,0.1,232]\n",
    "\n",
    "# min(nums)\n",
    "# max(nums)\n",
    "sum(nums)"
   ]
  },
  {
   "cell_type": "code",
   "execution_count": 22,
   "metadata": {},
   "outputs": [
    {
     "name": "stdout",
     "output_type": "stream",
     "text": [
      "Valid User\n"
     ]
    }
   ],
   "source": [
    "username : str = input('Please enter username: ')\n",
    "userpassword : int = input('Please enter password: ')\n",
    "\n",
    "for data in data_base:\n",
    "    user,password = data\n",
    "    if username == user and userpassword == password:\n",
    "        print('Valid User');\n",
    "        break;\n",
    "    else:\n",
    "        print(\"Invalid username and password\");\n",
    "        break;"
   ]
  },
  {
   "cell_type": "code",
   "execution_count": 26,
   "metadata": {},
   "outputs": [
    {
     "data": {
      "text/plain": [
       "[2, 4, 6, 8]"
      ]
     },
     "execution_count": 26,
     "metadata": {},
     "output_type": "execute_result"
    }
   ],
   "source": [
    "list(range(2,10,2))"
   ]
  },
  {
   "cell_type": "code",
   "execution_count": 9,
   "metadata": {},
   "outputs": [
    {
     "name": "stdout",
     "output_type": "stream",
     "text": [
      "Chouhdry\n"
     ]
    }
   ],
   "source": [
    "myname: tuple[str] = (\"Chouhdry\",\"Rizwan\")\n",
    "\n",
    "print(myname[0])"
   ]
  },
  {
   "cell_type": "code",
   "execution_count": 11,
   "metadata": {},
   "outputs": [
    {
     "name": "stdout",
     "output_type": "stream",
     "text": [
      "[1, 'Django', 50.6, True]\n",
      "[1, 'Django', 50.6, True, 'Rizwan']\n"
     ]
    }
   ],
   "source": [
    "from typing import Any\n",
    "\n",
    "dataType: tuple[Any] = [1,\"Django\",50.6,True]\n",
    "\n",
    "print(dataType)\n",
    "dataType.append(\"Rizwan\")\n",
    "print(dataType)"
   ]
  }
 ],
 "metadata": {
  "kernelspec": {
   "display_name": "python12",
   "language": "python",
   "name": "python3"
  },
  "language_info": {
   "codemirror_mode": {
    "name": "ipython",
    "version": 3
   },
   "file_extension": ".py",
   "mimetype": "text/x-python",
   "name": "python",
   "nbconvert_exporter": "python",
   "pygments_lexer": "ipython3",
   "version": "3.11.5"
  }
 },
 "nbformat": 4,
 "nbformat_minor": 2
}
