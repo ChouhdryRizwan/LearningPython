{
 "cells": [
  {
   "cell_type": "markdown",
   "metadata": {},
   "source": [
    "# Creata a List"
   ]
  },
  {
   "cell_type": "code",
   "execution_count": 110,
   "metadata": {},
   "outputs": [],
   "source": [
    "friendsName : list[str] = ['Asfand','Saleem','Shahzaib']"
   ]
  },
  {
   "cell_type": "code",
   "execution_count": 101,
   "metadata": {},
   "outputs": [
    {
     "name": "stdout",
     "output_type": "stream",
     "text": [
      "Asfand is one of my best friend.\n",
      "['Asfand', 'Bilal']\n"
     ]
    }
   ],
   "source": [
    "message:str = f'{friendsName[0].title()} is one of my best friend.'\n",
    "# message:str = f'{friendsName[-1].title()} is one of my best friend.'\n",
    "# message:str = f'{friendsName[-2].title()} is one of my best friend.'\n",
    "print(message)\n",
    "print(friendsName[:2])"
   ]
  },
  {
   "cell_type": "code",
   "execution_count": 20,
   "metadata": {},
   "outputs": [
    {
     "name": "stdout",
     "output_type": "stream",
     "text": [
      "['Amir', 'Saleem', 'Shahzaib']\n",
      "['Amir', 'Saleem', 'Shahzaib']\n"
     ]
    }
   ],
   "source": [
    "friendsName[0] = \"Amir\"\n",
    "print(friendsName)"
   ]
  },
  {
   "cell_type": "code",
   "execution_count": 22,
   "metadata": {},
   "outputs": [],
   "source": [
    "from typing import Any\n",
    "\n",
    "favs : list[Any] = [\"Cricket\", 6, False]"
   ]
  },
  {
   "cell_type": "code",
   "execution_count": 28,
   "metadata": {},
   "outputs": [
    {
     "name": "stdout",
     "output_type": "stream",
     "text": [
      "<class 'int'>\n"
     ]
    }
   ],
   "source": [
    "print(type(favs[1]))"
   ]
  },
  {
   "cell_type": "code",
   "execution_count": 123,
   "metadata": {},
   "outputs": [],
   "source": [
    "list1 : list[Any] = [\"Chouhdry\", 6, False, 12]\n",
    "list2 : list[Any] = [True, 'Rizwan', 11, True]"
   ]
  },
  {
   "cell_type": "code",
   "execution_count": 35,
   "metadata": {},
   "outputs": [
    {
     "name": "stdout",
     "output_type": "stream",
     "text": [
      "['Bat', 6, False, 12]\n",
      "[True, 'Rizwan', 11, True]\n"
     ]
    }
   ],
   "source": [
    "print (list1)\n",
    "print (list2)"
   ]
  },
  {
   "cell_type": "code",
   "execution_count": 42,
   "metadata": {},
   "outputs": [
    {
     "name": "stdout",
     "output_type": "stream",
     "text": [
      "Tested by Chouhdry Rizwan\n"
     ]
    }
   ],
   "source": [
    "check_type:any =type(list1[-1])\n",
    "\n",
    "if check_type == int:\n",
    "    res:int = list1[-1] + list2[2]\n",
    "    print(res)\n",
    "else:\n",
    "    print(f'Tested by {list1[0]} {list2[1]}')\n",
    "    \n"
   ]
  },
  {
   "cell_type": "code",
   "execution_count": 122,
   "metadata": {},
   "outputs": [
    {
     "name": "stdout",
     "output_type": "stream",
     "text": [
      "['Chouhdry', 6, False, '12']\n",
      "['Chouhdry', 6, False, '12']\n",
      "['Chouhdry', 6, False, '12', 'Chouhdry', 6, False, '12']\n"
     ]
    }
   ],
   "source": [
    "print(list1)\n",
    "print(list2)\n",
    "\n",
    "list3 = list2 + list1 # Shallow copy\n",
    "print(list3) "
   ]
  },
  {
   "cell_type": "code",
   "execution_count": 126,
   "metadata": {},
   "outputs": [
    {
     "name": "stdout",
     "output_type": "stream",
     "text": [
      "list2 org [True, 'Rizwan', 11, True]\n",
      "list2 copy ['Chouhdry', 6, False, 12]\n"
     ]
    }
   ],
   "source": [
    "print('list2 org',list2)\n",
    "list2 = list1.copy()  # Deep copy\n",
    "print('list2 copy',list2)"
   ]
  },
  {
   "cell_type": "markdown",
   "metadata": {},
   "source": [
    "# Fuctions of list"
   ]
  },
  {
   "cell_type": "code",
   "execution_count": 45,
   "metadata": {},
   "outputs": [
    {
     "name": "stdout",
     "output_type": "stream",
     "text": [
      "['Amir', 'Saleem', 'Shahzaib', 'Asfand']\n",
      "['Amir', 'Saleem', 'Shahzaib', 'Asfand', 'Asfand']\n"
     ]
    }
   ],
   "source": [
    "print(friendsName)\n",
    "friendsName.append('Asfand') #Add element to the end of the list\n",
    "print(friendsName)"
   ]
  },
  {
   "cell_type": "code",
   "execution_count": 46,
   "metadata": {},
   "outputs": [
    {
     "name": "stdout",
     "output_type": "stream",
     "text": [
      "['Amir', 'Saleem', 'Shahzaib', 'Asfand', 'Asfand']\n",
      "['Amir', 'Saleem', 'Hassan', 'Shahzaib', 'Asfand', 'Asfand']\n"
     ]
    }
   ],
   "source": [
    "print(friendsName)\n",
    "friendsName.insert(2,'Hassan') #Add element at any position\n",
    "print(friendsName)"
   ]
  },
  {
   "cell_type": "code",
   "execution_count": 47,
   "metadata": {},
   "outputs": [
    {
     "name": "stdout",
     "output_type": "stream",
     "text": [
      "['Amir', 'Saleem', 'Hassan', 'Shahzaib', 'Asfand', 'Asfand']\n",
      "['Amir', 'Saleem', 'Hassan', 'Shahzaib', 'Asfand']\n"
     ]
    }
   ],
   "source": [
    "print(friendsName)\n",
    "del friendsName[-1] #Remove any element from list \n",
    "print(friendsName)"
   ]
  },
  {
   "cell_type": "code",
   "execution_count": 48,
   "metadata": {},
   "outputs": [
    {
     "name": "stdout",
     "output_type": "stream",
     "text": [
      "['Amir', 'Saleem', 'Hassan', 'Shahzaib', 'Asfand']\n",
      "['Amir', 'Saleem', 'Hassan', 'Shahzaib']\n"
     ]
    }
   ],
   "source": [
    "print(friendsName)\n",
    "friendsName.pop() #Remove last element from list \n",
    "print(friendsName)"
   ]
  },
  {
   "cell_type": "code",
   "execution_count": 49,
   "metadata": {},
   "outputs": [
    {
     "name": "stdout",
     "output_type": "stream",
     "text": [
      "['Amir', 'Saleem', 'Hassan', 'Shahzaib']\n",
      "['Amir', 'Saleem', 'Shahzaib']\n"
     ]
    }
   ],
   "source": [
    "print(friendsName)\n",
    "friendsName.pop(-2) #Remove any element from list at any position \n",
    "print(friendsName)"
   ]
  },
  {
   "cell_type": "code",
   "execution_count": 59,
   "metadata": {},
   "outputs": [
    {
     "name": "stdout",
     "output_type": "stream",
     "text": [
      "['Saleem', 'Shahzaib']\n",
      "['Asfand', 'Saleem', 'Shahzaib']\n"
     ]
    }
   ],
   "source": [
    "print(friendsName)\n",
    "friendsName.remove('Asfand') #Remove any element from list at any position \n",
    "# friendsName.insert(0,'Asfand')\n",
    "print(friendsName)"
   ]
  },
  {
   "cell_type": "code",
   "execution_count": 109,
   "metadata": {},
   "outputs": [
    {
     "name": "stdout",
     "output_type": "stream",
     "text": [
      "[]\n",
      "[]\n"
     ]
    }
   ],
   "source": [
    "print(friendsName)\n",
    "friendsName.clear() # remove all element but object is remain\n",
    "print(friendsName)"
   ]
  },
  {
   "cell_type": "code",
   "execution_count": 134,
   "metadata": {},
   "outputs": [
    {
     "name": "stdout",
     "output_type": "stream",
     "text": [
      "['Asfand', 'Saleem', 'Shahzaib']\n",
      "['Asfand', 'Saleem', 'Shahzaib']\n"
     ]
    }
   ],
   "source": [
    "print(friendsName)\n",
    "friendsName.index(\"Saleem\",1) # little bit confusing\n",
    "print(friendsName)"
   ]
  },
  {
   "cell_type": "markdown",
   "metadata": {},
   "source": [
    "# Sorting a List"
   ]
  },
  {
   "cell_type": "code",
   "execution_count": 76,
   "metadata": {},
   "outputs": [
    {
     "name": "stdout",
     "output_type": "stream",
     "text": [
      "['Asfand', 'Bilal', 'Saleem', 'Shahzaib']\n",
      "['Asfand', 'Bilal', 'Saleem', 'Shahzaib']\n"
     ]
    }
   ],
   "source": [
    "print(friendsName)\n",
    "friendsName.sort() #Sort in alphabetical order,\n",
    "print(friendsName)"
   ]
  },
  {
   "cell_type": "code",
   "execution_count": 81,
   "metadata": {},
   "outputs": [
    {
     "name": "stdout",
     "output_type": "stream",
     "text": [
      "['Shahzaib', 'Saleem', 'Bilal', 'Asfand']\n",
      "['Shahzaib', 'Saleem', 'Bilal', 'Asfand']\n"
     ]
    }
   ],
   "source": [
    "print(friendsName)\n",
    "friendsName.sort(reverse=True) #Sort in reverse-alphabetical order,\n",
    "print(friendsName)"
   ]
  },
  {
   "cell_type": "code",
   "execution_count": 86,
   "metadata": {},
   "outputs": [
    {
     "name": "stdout",
     "output_type": "stream",
     "text": [
      "['Asfand', 'Bilal', 'Saleem', 'Shahzaib']\n",
      "['Shahzaib', 'Saleem', 'Bilal', 'Asfand']\n"
     ]
    }
   ],
   "source": [
    "print(friendsName)\n",
    "# print(sorted(friendsName))  #Sort list temporarily,\n",
    "friendsName.reverse()  #Sort list  reverse-chronological order\n",
    "print(friendsName)\n"
   ]
  },
  {
   "cell_type": "markdown",
   "metadata": {},
   "source": [
    "#  Length of a List"
   ]
  },
  {
   "cell_type": "code",
   "execution_count": 111,
   "metadata": {},
   "outputs": [
    {
     "name": "stdout",
     "output_type": "stream",
     "text": [
      "3\n"
     ]
    }
   ],
   "source": [
    "listLen:int = len(friendsName);\n",
    "print(listLen)"
   ]
  },
  {
   "cell_type": "code",
   "execution_count": 107,
   "metadata": {},
   "outputs": [
    {
     "data": {
      "text/plain": [
       "['append',\n",
       " 'clear',\n",
       " 'copy',\n",
       " 'count',\n",
       " 'extend',\n",
       " 'index',\n",
       " 'insert',\n",
       " 'pop',\n",
       " 'remove',\n",
       " 'reverse',\n",
       " 'sort']"
      ]
     },
     "execution_count": 107,
     "metadata": {},
     "output_type": "execute_result"
    }
   ],
   "source": [
    "[i for i in dir(list) if \"__\" not in i]"
   ]
  }
 ],
 "metadata": {
  "kernelspec": {
   "display_name": "python12",
   "language": "python",
   "name": "python3"
  },
  "language_info": {
   "codemirror_mode": {
    "name": "ipython",
    "version": 3
   },
   "file_extension": ".py",
   "mimetype": "text/x-python",
   "name": "python",
   "nbconvert_exporter": "python",
   "pygments_lexer": "ipython3",
   "version": "3.11.5"
  }
 },
 "nbformat": 4,
 "nbformat_minor": 2
}
